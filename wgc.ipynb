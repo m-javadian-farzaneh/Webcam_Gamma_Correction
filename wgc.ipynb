{
 "cells": [
  {
   "cell_type": "code",
   "execution_count": 40,
   "metadata": {},
   "outputs": [],
   "source": [
    "import cv2\n",
    "import numpy as np"
   ]
  },
  {
   "cell_type": "code",
   "execution_count": 41,
   "metadata": {},
   "outputs": [],
   "source": [
    "# Create the Lookup table\n",
    "lutable = np.empty((1,256),np.uint8)\n",
    "\n",
    "# Create name for gamma trackbar\n",
    "gamma_trackbar_name = \"Gamma Value\"\n",
    "gamma_window_name = \"WEBCAM_Gamma\"\n"
   ]
  },
  {
   "cell_type": "code",
   "execution_count": 42,
   "metadata": {},
   "outputs": [],
   "source": [
    "# function to adjust gamma\n",
    "def gamma_adjust(gamma):\n",
    "    for i in range(256):\n",
    "        lutable[0,i] = pow(i/255.0,gamma)*255.0\n",
    "    return lutable"
   ]
  },
  {
   "cell_type": "code",
   "execution_count": 43,
   "metadata": {},
   "outputs": [],
   "source": [
    "# create event for gamma track bar\n",
    "def gamma_trackbar_event(val):\n",
    "    gamma_adjust(val/10)"
   ]
  },
  {
   "cell_type": "code",
   "execution_count": 44,
   "metadata": {},
   "outputs": [],
   "source": [
    "# Create Gamma window and Trackbar\n",
    "cv2.namedWindow(gamma_window_name)\n",
    "cv2.createTrackbar(gamma_trackbar_name,gamma_window_name,1,30,gamma_trackbar_event)"
   ]
  },
  {
   "cell_type": "code",
   "execution_count": 45,
   "metadata": {},
   "outputs": [],
   "source": [
    "cap = cv2.VideoCapture(0)\n",
    "while cap.isOpened():\n",
    "    r,f = cap.read()\n",
    "\n",
    "    f_fliped = cv2.flip(f,1)\n",
    "    f_gamma = cv2.LUT(f_fliped,lutable)\n",
    "\n",
    "    cv2.imshow(\"WEBCAM_Main\",f_fliped)\n",
    "    cv2.imshow(gamma_window_name,f_gamma)\n",
    "    \n",
    "    if cv2.waitKey(1) == ord('q'):\n",
    "        break\n",
    "\n",
    "cap.release()\n",
    "cv2.destroyAllWindows()"
   ]
  }
 ],
 "metadata": {
  "kernelspec": {
   "display_name": "Python 3",
   "language": "python",
   "name": "python3"
  },
  "language_info": {
   "codemirror_mode": {
    "name": "ipython",
    "version": 3
   },
   "file_extension": ".py",
   "mimetype": "text/x-python",
   "name": "python",
   "nbconvert_exporter": "python",
   "pygments_lexer": "ipython3",
   "version": "3.10.6"
  },
  "orig_nbformat": 4
 },
 "nbformat": 4,
 "nbformat_minor": 2
}
